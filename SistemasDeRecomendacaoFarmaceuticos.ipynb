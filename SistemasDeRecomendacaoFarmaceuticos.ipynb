{
  "cells": [
    {
      "cell_type": "markdown",
      "source": [
        "# MedConnect"
      ],
      "metadata": {
        "id": "edBldZhT14M2"
      },
      "id": "edBldZhT14M2"
    },
    {
      "cell_type": "code",
      "execution_count": 2,
      "id": "b7fd1900",
      "metadata": {
        "id": "b7fd1900",
        "outputId": "b2669c4f-89e8-42b4-dade-1afa7d8d11c6",
        "colab": {
          "base_uri": "https://localhost:8080/"
        }
      },
      "outputs": [
        {
          "output_type": "stream",
          "name": "stdout",
          "text": [
            "Collecting surprise\n",
            "  Downloading surprise-0.1-py2.py3-none-any.whl.metadata (327 bytes)\n",
            "Collecting scikit-surprise (from surprise)\n",
            "  Downloading scikit_surprise-1.1.4.tar.gz (154 kB)\n",
            "\u001b[?25l     \u001b[90m━━━━━━━━━━━━━━━━━━━━━━━━━━━━━━━━━━━━━━━━\u001b[0m \u001b[32m0.0/154.4 kB\u001b[0m \u001b[31m?\u001b[0m eta \u001b[36m-:--:--\u001b[0m\r\u001b[2K     \u001b[91m━━━━━━━━━━━━━━━━━━━━━\u001b[0m\u001b[90m╺\u001b[0m\u001b[90m━━━━━━━━━━━━━━━━━━\u001b[0m \u001b[32m81.9/154.4 kB\u001b[0m \u001b[31m2.9 MB/s\u001b[0m eta \u001b[36m0:00:01\u001b[0m\r\u001b[2K     \u001b[90m━━━━━━━━━━━━━━━━━━━━━━━━━━━━━━━━━━━━━━━━\u001b[0m \u001b[32m154.4/154.4 kB\u001b[0m \u001b[31m2.6 MB/s\u001b[0m eta \u001b[36m0:00:00\u001b[0m\n",
            "\u001b[?25h  Installing build dependencies ... \u001b[?25l\u001b[?25hdone\n",
            "  Getting requirements to build wheel ... \u001b[?25l\u001b[?25hdone\n",
            "  Preparing metadata (pyproject.toml) ... \u001b[?25l\u001b[?25hdone\n",
            "Requirement already satisfied: joblib>=1.2.0 in /usr/local/lib/python3.10/dist-packages (from scikit-surprise->surprise) (1.4.2)\n",
            "Requirement already satisfied: numpy>=1.19.5 in /usr/local/lib/python3.10/dist-packages (from scikit-surprise->surprise) (1.26.4)\n",
            "Requirement already satisfied: scipy>=1.6.0 in /usr/local/lib/python3.10/dist-packages (from scikit-surprise->surprise) (1.13.1)\n",
            "Downloading surprise-0.1-py2.py3-none-any.whl (1.8 kB)\n",
            "Building wheels for collected packages: scikit-surprise\n",
            "  Building wheel for scikit-surprise (pyproject.toml) ... \u001b[?25l\u001b[?25hdone\n",
            "  Created wheel for scikit-surprise: filename=scikit_surprise-1.1.4-cp310-cp310-linux_x86_64.whl size=2357278 sha256=adc4cd3c6eea4c8adeeb3782dc4ae63cd192d7f851b9c278dca819db9ba758d2\n",
            "  Stored in directory: /root/.cache/pip/wheels/4b/3f/df/6acbf0a40397d9bf3ff97f582cc22fb9ce66adde75bc71fd54\n",
            "Successfully built scikit-surprise\n",
            "Installing collected packages: scikit-surprise, surprise\n",
            "Successfully installed scikit-surprise-1.1.4 surprise-0.1\n"
          ]
        }
      ],
      "source": [
        "pip install surprise"
      ]
    },
    {
      "cell_type": "markdown",
      "source": [],
      "metadata": {
        "id": "ffClxRl512bm"
      },
      "id": "ffClxRl512bm"
    },
    {
      "cell_type": "code",
      "execution_count": 3,
      "id": "4c858c90",
      "metadata": {
        "id": "4c858c90"
      },
      "outputs": [],
      "source": [
        "from surprise import Dataset, Reader, SVD\n",
        "from sklearn.feature_extraction.text import TfidfVectorizer\n",
        "from sklearn.metrics.pairwise import linear_kernel\n",
        "import pandas as pd"
      ]
    },
    {
      "cell_type": "code",
      "source": [
        "df = pd.read_csv('/fashion_products.csv')\n"
      ],
      "metadata": {
        "id": "XYy95uEZHjAE"
      },
      "id": "XYy95uEZHjAE",
      "execution_count": 46,
      "outputs": []
    },
    {
      "cell_type": "code",
      "source": [
        "product_name = df.loc[df['Product ID'] == product_id, 'Product Name']"
      ],
      "metadata": {
        "id": "EAbXCEzEHy4T"
      },
      "id": "EAbXCEzEHy4T",
      "execution_count": 36,
      "outputs": []
    },
    {
      "cell_type": "code",
      "execution_count": 37,
      "id": "d7657ad4",
      "metadata": {
        "id": "d7657ad4",
        "outputId": "cf10ee6d-f003-40c4-b6e3-14283045a440",
        "colab": {
          "base_uri": "https://localhost:8080/",
          "height": 363
        }
      },
      "outputs": [
        {
          "output_type": "execute_result",
          "data": {
            "text/plain": [
              "   User ID  Product ID Product Name   Brand         Category  Price    Rating  \\\n",
              "0       19           1        Dress  Adidas    Men's Fashion     40  1.043159   \n",
              "1       97           2        Shoes     H&M  Women's Fashion     82  4.026416   \n",
              "2       25           3        Dress  Adidas  Women's Fashion     44  3.337938   \n",
              "3       57           4        Shoes    Zara    Men's Fashion     23  1.049523   \n",
              "4       79           5      T-shirt  Adidas    Men's Fashion     79  4.302773   \n",
              "5       98           6        Dress  Adidas    Men's Fashion     47  1.379566   \n",
              "6       16           7        Jeans   Gucci    Men's Fashion     37  1.356750   \n",
              "7       63           8      Sweater    Zara    Kids' Fashion     64  4.360303   \n",
              "8       96           9      Sweater     H&M    Men's Fashion     53  4.466182   \n",
              "9       36          10      T-shirt    Zara    Kids' Fashion     55  4.093234   \n",
              "\n",
              "    Color Size  \n",
              "0   Black   XL  \n",
              "1   Black    L  \n",
              "2  Yellow   XL  \n",
              "3   White    S  \n",
              "4   Black    M  \n",
              "5  Yellow    L  \n",
              "6   White   XL  \n",
              "7    Blue   XL  \n",
              "8   Green   XL  \n",
              "9   White   XL  "
            ],
            "text/html": [
              "\n",
              "  <div id=\"df-41ac0fb3-fe9f-41e5-8931-77d96e9f34f5\" class=\"colab-df-container\">\n",
              "    <div>\n",
              "<style scoped>\n",
              "    .dataframe tbody tr th:only-of-type {\n",
              "        vertical-align: middle;\n",
              "    }\n",
              "\n",
              "    .dataframe tbody tr th {\n",
              "        vertical-align: top;\n",
              "    }\n",
              "\n",
              "    .dataframe thead th {\n",
              "        text-align: right;\n",
              "    }\n",
              "</style>\n",
              "<table border=\"1\" class=\"dataframe\">\n",
              "  <thead>\n",
              "    <tr style=\"text-align: right;\">\n",
              "      <th></th>\n",
              "      <th>User ID</th>\n",
              "      <th>Product ID</th>\n",
              "      <th>Product Name</th>\n",
              "      <th>Brand</th>\n",
              "      <th>Category</th>\n",
              "      <th>Price</th>\n",
              "      <th>Rating</th>\n",
              "      <th>Color</th>\n",
              "      <th>Size</th>\n",
              "    </tr>\n",
              "  </thead>\n",
              "  <tbody>\n",
              "    <tr>\n",
              "      <th>0</th>\n",
              "      <td>19</td>\n",
              "      <td>1</td>\n",
              "      <td>Dress</td>\n",
              "      <td>Adidas</td>\n",
              "      <td>Men's Fashion</td>\n",
              "      <td>40</td>\n",
              "      <td>1.043159</td>\n",
              "      <td>Black</td>\n",
              "      <td>XL</td>\n",
              "    </tr>\n",
              "    <tr>\n",
              "      <th>1</th>\n",
              "      <td>97</td>\n",
              "      <td>2</td>\n",
              "      <td>Shoes</td>\n",
              "      <td>H&amp;M</td>\n",
              "      <td>Women's Fashion</td>\n",
              "      <td>82</td>\n",
              "      <td>4.026416</td>\n",
              "      <td>Black</td>\n",
              "      <td>L</td>\n",
              "    </tr>\n",
              "    <tr>\n",
              "      <th>2</th>\n",
              "      <td>25</td>\n",
              "      <td>3</td>\n",
              "      <td>Dress</td>\n",
              "      <td>Adidas</td>\n",
              "      <td>Women's Fashion</td>\n",
              "      <td>44</td>\n",
              "      <td>3.337938</td>\n",
              "      <td>Yellow</td>\n",
              "      <td>XL</td>\n",
              "    </tr>\n",
              "    <tr>\n",
              "      <th>3</th>\n",
              "      <td>57</td>\n",
              "      <td>4</td>\n",
              "      <td>Shoes</td>\n",
              "      <td>Zara</td>\n",
              "      <td>Men's Fashion</td>\n",
              "      <td>23</td>\n",
              "      <td>1.049523</td>\n",
              "      <td>White</td>\n",
              "      <td>S</td>\n",
              "    </tr>\n",
              "    <tr>\n",
              "      <th>4</th>\n",
              "      <td>79</td>\n",
              "      <td>5</td>\n",
              "      <td>T-shirt</td>\n",
              "      <td>Adidas</td>\n",
              "      <td>Men's Fashion</td>\n",
              "      <td>79</td>\n",
              "      <td>4.302773</td>\n",
              "      <td>Black</td>\n",
              "      <td>M</td>\n",
              "    </tr>\n",
              "    <tr>\n",
              "      <th>5</th>\n",
              "      <td>98</td>\n",
              "      <td>6</td>\n",
              "      <td>Dress</td>\n",
              "      <td>Adidas</td>\n",
              "      <td>Men's Fashion</td>\n",
              "      <td>47</td>\n",
              "      <td>1.379566</td>\n",
              "      <td>Yellow</td>\n",
              "      <td>L</td>\n",
              "    </tr>\n",
              "    <tr>\n",
              "      <th>6</th>\n",
              "      <td>16</td>\n",
              "      <td>7</td>\n",
              "      <td>Jeans</td>\n",
              "      <td>Gucci</td>\n",
              "      <td>Men's Fashion</td>\n",
              "      <td>37</td>\n",
              "      <td>1.356750</td>\n",
              "      <td>White</td>\n",
              "      <td>XL</td>\n",
              "    </tr>\n",
              "    <tr>\n",
              "      <th>7</th>\n",
              "      <td>63</td>\n",
              "      <td>8</td>\n",
              "      <td>Sweater</td>\n",
              "      <td>Zara</td>\n",
              "      <td>Kids' Fashion</td>\n",
              "      <td>64</td>\n",
              "      <td>4.360303</td>\n",
              "      <td>Blue</td>\n",
              "      <td>XL</td>\n",
              "    </tr>\n",
              "    <tr>\n",
              "      <th>8</th>\n",
              "      <td>96</td>\n",
              "      <td>9</td>\n",
              "      <td>Sweater</td>\n",
              "      <td>H&amp;M</td>\n",
              "      <td>Men's Fashion</td>\n",
              "      <td>53</td>\n",
              "      <td>4.466182</td>\n",
              "      <td>Green</td>\n",
              "      <td>XL</td>\n",
              "    </tr>\n",
              "    <tr>\n",
              "      <th>9</th>\n",
              "      <td>36</td>\n",
              "      <td>10</td>\n",
              "      <td>T-shirt</td>\n",
              "      <td>Zara</td>\n",
              "      <td>Kids' Fashion</td>\n",
              "      <td>55</td>\n",
              "      <td>4.093234</td>\n",
              "      <td>White</td>\n",
              "      <td>XL</td>\n",
              "    </tr>\n",
              "  </tbody>\n",
              "</table>\n",
              "</div>\n",
              "    <div class=\"colab-df-buttons\">\n",
              "\n",
              "  <div class=\"colab-df-container\">\n",
              "    <button class=\"colab-df-convert\" onclick=\"convertToInteractive('df-41ac0fb3-fe9f-41e5-8931-77d96e9f34f5')\"\n",
              "            title=\"Convert this dataframe to an interactive table.\"\n",
              "            style=\"display:none;\">\n",
              "\n",
              "  <svg xmlns=\"http://www.w3.org/2000/svg\" height=\"24px\" viewBox=\"0 -960 960 960\">\n",
              "    <path d=\"M120-120v-720h720v720H120Zm60-500h600v-160H180v160Zm220 220h160v-160H400v160Zm0 220h160v-160H400v160ZM180-400h160v-160H180v160Zm440 0h160v-160H620v160ZM180-180h160v-160H180v160Zm440 0h160v-160H620v160Z\"/>\n",
              "  </svg>\n",
              "    </button>\n",
              "\n",
              "  <style>\n",
              "    .colab-df-container {\n",
              "      display:flex;\n",
              "      gap: 12px;\n",
              "    }\n",
              "\n",
              "    .colab-df-convert {\n",
              "      background-color: #E8F0FE;\n",
              "      border: none;\n",
              "      border-radius: 50%;\n",
              "      cursor: pointer;\n",
              "      display: none;\n",
              "      fill: #1967D2;\n",
              "      height: 32px;\n",
              "      padding: 0 0 0 0;\n",
              "      width: 32px;\n",
              "    }\n",
              "\n",
              "    .colab-df-convert:hover {\n",
              "      background-color: #E2EBFA;\n",
              "      box-shadow: 0px 1px 2px rgba(60, 64, 67, 0.3), 0px 1px 3px 1px rgba(60, 64, 67, 0.15);\n",
              "      fill: #174EA6;\n",
              "    }\n",
              "\n",
              "    .colab-df-buttons div {\n",
              "      margin-bottom: 4px;\n",
              "    }\n",
              "\n",
              "    [theme=dark] .colab-df-convert {\n",
              "      background-color: #3B4455;\n",
              "      fill: #D2E3FC;\n",
              "    }\n",
              "\n",
              "    [theme=dark] .colab-df-convert:hover {\n",
              "      background-color: #434B5C;\n",
              "      box-shadow: 0px 1px 3px 1px rgba(0, 0, 0, 0.15);\n",
              "      filter: drop-shadow(0px 1px 2px rgba(0, 0, 0, 0.3));\n",
              "      fill: #FFFFFF;\n",
              "    }\n",
              "  </style>\n",
              "\n",
              "    <script>\n",
              "      const buttonEl =\n",
              "        document.querySelector('#df-41ac0fb3-fe9f-41e5-8931-77d96e9f34f5 button.colab-df-convert');\n",
              "      buttonEl.style.display =\n",
              "        google.colab.kernel.accessAllowed ? 'block' : 'none';\n",
              "\n",
              "      async function convertToInteractive(key) {\n",
              "        const element = document.querySelector('#df-41ac0fb3-fe9f-41e5-8931-77d96e9f34f5');\n",
              "        const dataTable =\n",
              "          await google.colab.kernel.invokeFunction('convertToInteractive',\n",
              "                                                    [key], {});\n",
              "        if (!dataTable) return;\n",
              "\n",
              "        const docLinkHtml = 'Like what you see? Visit the ' +\n",
              "          '<a target=\"_blank\" href=https://colab.research.google.com/notebooks/data_table.ipynb>data table notebook</a>'\n",
              "          + ' to learn more about interactive tables.';\n",
              "        element.innerHTML = '';\n",
              "        dataTable['output_type'] = 'display_data';\n",
              "        await google.colab.output.renderOutput(dataTable, element);\n",
              "        const docLink = document.createElement('div');\n",
              "        docLink.innerHTML = docLinkHtml;\n",
              "        element.appendChild(docLink);\n",
              "      }\n",
              "    </script>\n",
              "  </div>\n",
              "\n",
              "\n",
              "<div id=\"df-531ce3cd-680b-4edb-a40a-f6ec1fe107a2\">\n",
              "  <button class=\"colab-df-quickchart\" onclick=\"quickchart('df-531ce3cd-680b-4edb-a40a-f6ec1fe107a2')\"\n",
              "            title=\"Suggest charts\"\n",
              "            style=\"display:none;\">\n",
              "\n",
              "<svg xmlns=\"http://www.w3.org/2000/svg\" height=\"24px\"viewBox=\"0 0 24 24\"\n",
              "     width=\"24px\">\n",
              "    <g>\n",
              "        <path d=\"M19 3H5c-1.1 0-2 .9-2 2v14c0 1.1.9 2 2 2h14c1.1 0 2-.9 2-2V5c0-1.1-.9-2-2-2zM9 17H7v-7h2v7zm4 0h-2V7h2v10zm4 0h-2v-4h2v4z\"/>\n",
              "    </g>\n",
              "</svg>\n",
              "  </button>\n",
              "\n",
              "<style>\n",
              "  .colab-df-quickchart {\n",
              "      --bg-color: #E8F0FE;\n",
              "      --fill-color: #1967D2;\n",
              "      --hover-bg-color: #E2EBFA;\n",
              "      --hover-fill-color: #174EA6;\n",
              "      --disabled-fill-color: #AAA;\n",
              "      --disabled-bg-color: #DDD;\n",
              "  }\n",
              "\n",
              "  [theme=dark] .colab-df-quickchart {\n",
              "      --bg-color: #3B4455;\n",
              "      --fill-color: #D2E3FC;\n",
              "      --hover-bg-color: #434B5C;\n",
              "      --hover-fill-color: #FFFFFF;\n",
              "      --disabled-bg-color: #3B4455;\n",
              "      --disabled-fill-color: #666;\n",
              "  }\n",
              "\n",
              "  .colab-df-quickchart {\n",
              "    background-color: var(--bg-color);\n",
              "    border: none;\n",
              "    border-radius: 50%;\n",
              "    cursor: pointer;\n",
              "    display: none;\n",
              "    fill: var(--fill-color);\n",
              "    height: 32px;\n",
              "    padding: 0;\n",
              "    width: 32px;\n",
              "  }\n",
              "\n",
              "  .colab-df-quickchart:hover {\n",
              "    background-color: var(--hover-bg-color);\n",
              "    box-shadow: 0 1px 2px rgba(60, 64, 67, 0.3), 0 1px 3px 1px rgba(60, 64, 67, 0.15);\n",
              "    fill: var(--button-hover-fill-color);\n",
              "  }\n",
              "\n",
              "  .colab-df-quickchart-complete:disabled,\n",
              "  .colab-df-quickchart-complete:disabled:hover {\n",
              "    background-color: var(--disabled-bg-color);\n",
              "    fill: var(--disabled-fill-color);\n",
              "    box-shadow: none;\n",
              "  }\n",
              "\n",
              "  .colab-df-spinner {\n",
              "    border: 2px solid var(--fill-color);\n",
              "    border-color: transparent;\n",
              "    border-bottom-color: var(--fill-color);\n",
              "    animation:\n",
              "      spin 1s steps(1) infinite;\n",
              "  }\n",
              "\n",
              "  @keyframes spin {\n",
              "    0% {\n",
              "      border-color: transparent;\n",
              "      border-bottom-color: var(--fill-color);\n",
              "      border-left-color: var(--fill-color);\n",
              "    }\n",
              "    20% {\n",
              "      border-color: transparent;\n",
              "      border-left-color: var(--fill-color);\n",
              "      border-top-color: var(--fill-color);\n",
              "    }\n",
              "    30% {\n",
              "      border-color: transparent;\n",
              "      border-left-color: var(--fill-color);\n",
              "      border-top-color: var(--fill-color);\n",
              "      border-right-color: var(--fill-color);\n",
              "    }\n",
              "    40% {\n",
              "      border-color: transparent;\n",
              "      border-right-color: var(--fill-color);\n",
              "      border-top-color: var(--fill-color);\n",
              "    }\n",
              "    60% {\n",
              "      border-color: transparent;\n",
              "      border-right-color: var(--fill-color);\n",
              "    }\n",
              "    80% {\n",
              "      border-color: transparent;\n",
              "      border-right-color: var(--fill-color);\n",
              "      border-bottom-color: var(--fill-color);\n",
              "    }\n",
              "    90% {\n",
              "      border-color: transparent;\n",
              "      border-bottom-color: var(--fill-color);\n",
              "    }\n",
              "  }\n",
              "</style>\n",
              "\n",
              "  <script>\n",
              "    async function quickchart(key) {\n",
              "      const quickchartButtonEl =\n",
              "        document.querySelector('#' + key + ' button');\n",
              "      quickchartButtonEl.disabled = true;  // To prevent multiple clicks.\n",
              "      quickchartButtonEl.classList.add('colab-df-spinner');\n",
              "      try {\n",
              "        const charts = await google.colab.kernel.invokeFunction(\n",
              "            'suggestCharts', [key], {});\n",
              "      } catch (error) {\n",
              "        console.error('Error during call to suggestCharts:', error);\n",
              "      }\n",
              "      quickchartButtonEl.classList.remove('colab-df-spinner');\n",
              "      quickchartButtonEl.classList.add('colab-df-quickchart-complete');\n",
              "    }\n",
              "    (() => {\n",
              "      let quickchartButtonEl =\n",
              "        document.querySelector('#df-531ce3cd-680b-4edb-a40a-f6ec1fe107a2 button');\n",
              "      quickchartButtonEl.style.display =\n",
              "        google.colab.kernel.accessAllowed ? 'block' : 'none';\n",
              "    })();\n",
              "  </script>\n",
              "</div>\n",
              "\n",
              "    </div>\n",
              "  </div>\n"
            ],
            "application/vnd.google.colaboratory.intrinsic+json": {
              "type": "dataframe",
              "variable_name": "dados",
              "summary": "{\n  \"name\": \"dados\",\n  \"rows\": 1000,\n  \"fields\": [\n    {\n      \"column\": \"User ID\",\n      \"properties\": {\n        \"dtype\": \"number\",\n        \"std\": 28,\n        \"min\": 1,\n        \"max\": 100,\n        \"num_unique_values\": 100,\n        \"samples\": [\n          55,\n          4,\n          29\n        ],\n        \"semantic_type\": \"\",\n        \"description\": \"\"\n      }\n    },\n    {\n      \"column\": \"Product ID\",\n      \"properties\": {\n        \"dtype\": \"number\",\n        \"std\": 288,\n        \"min\": 1,\n        \"max\": 1000,\n        \"num_unique_values\": 1000,\n        \"samples\": [\n          522,\n          738,\n          741\n        ],\n        \"semantic_type\": \"\",\n        \"description\": \"\"\n      }\n    },\n    {\n      \"column\": \"Product Name\",\n      \"properties\": {\n        \"dtype\": \"category\",\n        \"num_unique_values\": 5,\n        \"samples\": [\n          \"Shoes\",\n          \"Sweater\",\n          \"T-shirt\"\n        ],\n        \"semantic_type\": \"\",\n        \"description\": \"\"\n      }\n    },\n    {\n      \"column\": \"Brand\",\n      \"properties\": {\n        \"dtype\": \"category\",\n        \"num_unique_values\": 5,\n        \"samples\": [\n          \"H&M\",\n          \"Nike\",\n          \"Zara\"\n        ],\n        \"semantic_type\": \"\",\n        \"description\": \"\"\n      }\n    },\n    {\n      \"column\": \"Category\",\n      \"properties\": {\n        \"dtype\": \"category\",\n        \"num_unique_values\": 3,\n        \"samples\": [\n          \"Men's Fashion\",\n          \"Women's Fashion\",\n          \"Kids' Fashion\"\n        ],\n        \"semantic_type\": \"\",\n        \"description\": \"\"\n      }\n    },\n    {\n      \"column\": \"Price\",\n      \"properties\": {\n        \"dtype\": \"number\",\n        \"std\": 26,\n        \"min\": 10,\n        \"max\": 100,\n        \"num_unique_values\": 91,\n        \"samples\": [\n          59,\n          21,\n          42\n        ],\n        \"semantic_type\": \"\",\n        \"description\": \"\"\n      }\n    },\n    {\n      \"column\": \"Rating\",\n      \"properties\": {\n        \"dtype\": \"number\",\n        \"std\": 1.153185443646673,\n        \"min\": 1.000967235428064,\n        \"max\": 4.987964320970842,\n        \"num_unique_values\": 1000,\n        \"samples\": [\n          2.9390797234183057,\n          1.0338431929963692,\n          3.3868368182647823\n        ],\n        \"semantic_type\": \"\",\n        \"description\": \"\"\n      }\n    },\n    {\n      \"column\": \"Color\",\n      \"properties\": {\n        \"dtype\": \"category\",\n        \"num_unique_values\": 6,\n        \"samples\": [\n          \"Black\",\n          \"Yellow\",\n          \"Red\"\n        ],\n        \"semantic_type\": \"\",\n        \"description\": \"\"\n      }\n    },\n    {\n      \"column\": \"Size\",\n      \"properties\": {\n        \"dtype\": \"category\",\n        \"num_unique_values\": 4,\n        \"samples\": [\n          \"L\",\n          \"M\",\n          \"XL\"\n        ],\n        \"semantic_type\": \"\",\n        \"description\": \"\"\n      }\n    }\n  ]\n}"
            }
          },
          "metadata": {},
          "execution_count": 37
        }
      ],
      "source": [
        "dados = pd.read_csv(\"/content/fashion_products.csv\")\n",
        "dados.head(10)"
      ]
    },
    {
      "cell_type": "code",
      "execution_count": 38,
      "id": "a5d6150a",
      "metadata": {
        "id": "a5d6150a",
        "outputId": "7f638671-14ef-46b1-95fe-9ba945b1d7ba",
        "colab": {
          "base_uri": "https://localhost:8080/",
          "height": 366
        }
      },
      "outputs": [
        {
          "output_type": "execute_result",
          "data": {
            "text/plain": [
              "User ID         0\n",
              "Product ID      0\n",
              "Product Name    0\n",
              "Brand           0\n",
              "Category        0\n",
              "Price           0\n",
              "Rating          0\n",
              "Color           0\n",
              "Size            0\n",
              "dtype: int64"
            ],
            "text/html": [
              "<div>\n",
              "<style scoped>\n",
              "    .dataframe tbody tr th:only-of-type {\n",
              "        vertical-align: middle;\n",
              "    }\n",
              "\n",
              "    .dataframe tbody tr th {\n",
              "        vertical-align: top;\n",
              "    }\n",
              "\n",
              "    .dataframe thead th {\n",
              "        text-align: right;\n",
              "    }\n",
              "</style>\n",
              "<table border=\"1\" class=\"dataframe\">\n",
              "  <thead>\n",
              "    <tr style=\"text-align: right;\">\n",
              "      <th></th>\n",
              "      <th>0</th>\n",
              "    </tr>\n",
              "  </thead>\n",
              "  <tbody>\n",
              "    <tr>\n",
              "      <th>User ID</th>\n",
              "      <td>0</td>\n",
              "    </tr>\n",
              "    <tr>\n",
              "      <th>Product ID</th>\n",
              "      <td>0</td>\n",
              "    </tr>\n",
              "    <tr>\n",
              "      <th>Product Name</th>\n",
              "      <td>0</td>\n",
              "    </tr>\n",
              "    <tr>\n",
              "      <th>Brand</th>\n",
              "      <td>0</td>\n",
              "    </tr>\n",
              "    <tr>\n",
              "      <th>Category</th>\n",
              "      <td>0</td>\n",
              "    </tr>\n",
              "    <tr>\n",
              "      <th>Price</th>\n",
              "      <td>0</td>\n",
              "    </tr>\n",
              "    <tr>\n",
              "      <th>Rating</th>\n",
              "      <td>0</td>\n",
              "    </tr>\n",
              "    <tr>\n",
              "      <th>Color</th>\n",
              "      <td>0</td>\n",
              "    </tr>\n",
              "    <tr>\n",
              "      <th>Size</th>\n",
              "      <td>0</td>\n",
              "    </tr>\n",
              "  </tbody>\n",
              "</table>\n",
              "</div><br><label><b>dtype:</b> int64</label>"
            ]
          },
          "metadata": {},
          "execution_count": 38
        }
      ],
      "source": [
        "dados.isnull().sum()"
      ]
    },
    {
      "cell_type": "markdown",
      "id": "fab8d869",
      "metadata": {
        "id": "fab8d869"
      },
      "source": [
        "Criando dataset  para ser usado em Filtro baseado em conteudo\n"
      ]
    },
    {
      "cell_type": "code",
      "execution_count": 39,
      "id": "55048d79",
      "metadata": {
        "id": "55048d79",
        "colab": {
          "base_uri": "https://localhost:8080/"
        },
        "outputId": "3ae882ea-996a-483c-bbfb-d82e208b5c4a"
      },
      "outputs": [
        {
          "output_type": "stream",
          "name": "stderr",
          "text": [
            "<ipython-input-39-61b3e49cb969>:3: SettingWithCopyWarning: \n",
            "A value is trying to be set on a copy of a slice from a DataFrame.\n",
            "Try using .loc[row_indexer,col_indexer] = value instead\n",
            "\n",
            "See the caveats in the documentation: https://pandas.pydata.org/pandas-docs/stable/user_guide/indexing.html#returning-a-view-versus-a-copy\n",
            "  conteudo_df['Content'] = conteudo_df.apply(lambda row: ' '.join(row.dropna().astype(str)), axis=1)\n"
          ]
        }
      ],
      "source": [
        "conteudo_df = dados[['Product ID', 'Product Name', 'Brand',\n",
        "                   'Category', 'Color', 'Size']]\n",
        "conteudo_df['Content'] = conteudo_df.apply(lambda row: ' '.join(row.dropna().astype(str)), axis=1)"
      ]
    },
    {
      "cell_type": "markdown",
      "id": "e8ea24a4",
      "metadata": {
        "id": "e8ea24a4"
      },
      "source": [
        "Vamos utilizar a função TfidfVectorizer() para fazer representações numericas dos valores em texto,\n",
        "ultilizar a função linaer_kernel para avaliar a similaridade entre os produtos do dataset,\n",
        "ultizar a função reader que permitirá que o programa interprete as interações de usuarios e produtos e e notas datas de tais usuarios para tais produtos.\n",
        "Em seguida vamos criar uma função que retornará a recomenções de produtos baseados em suas notas\n",
        "\n"
      ]
    },
    {
      "cell_type": "code",
      "execution_count": 40,
      "id": "d033a8f0",
      "metadata": {
        "id": "d033a8f0"
      },
      "outputs": [],
      "source": [
        "\n",
        "tfidf_vectorizer = TfidfVectorizer()\n",
        "MatrizDeConteudo = tfidf_vectorizer.fit_transform(conteudo_df['Content'])\n",
        "\n",
        "ConteudosSimilares = linear_kernel(MatrizDeConteudo, MatrizDeConteudo)\n",
        "\n",
        "reader = Reader(rating_scale=(1, 5))\n",
        "dados = Dataset.load_from_df(dados[['User ID',\n",
        "                                  'Product ID',\n",
        "                                  'Rating']], reader)\n",
        "\n",
        "def get_content_based_recommendations(product_id, top_n):\n",
        "    index = conteudo_df[conteudo_df['Product ID'] == product_id].index[0]\n",
        "    similarity_scores = ConteudosSimilares[index]\n",
        "    similar_indices = similarity_scores.argsort()[::-1][1:top_n + 1]\n",
        "    recommendacoes = conteudo_df.loc[similar_indices, 'Product ID'].values\n",
        "    return recommendacoes"
      ]
    },
    {
      "cell_type": "code",
      "source": [
        "get_content_based_recommendations(7,1)"
      ],
      "metadata": {
        "colab": {
          "base_uri": "https://localhost:8080/"
        },
        "id": "kNcQ73hj7_4d",
        "outputId": "898404ad-fcaf-4865-a345-889b985485ba"
      },
      "id": "kNcQ73hj7_4d",
      "execution_count": 12,
      "outputs": [
        {
          "output_type": "execute_result",
          "data": {
            "text/plain": [
              "array([972])"
            ]
          },
          "metadata": {},
          "execution_count": 12
        }
      ]
    },
    {
      "cell_type": "markdown",
      "id": "7a14b818",
      "metadata": {
        "id": "7a14b818"
      },
      "source": [
        "Recomendação por filtro colaborativo"
      ]
    },
    {
      "cell_type": "markdown",
      "id": "1d8e1b64",
      "metadata": {
        "id": "1d8e1b64"
      },
      "source": [
        "Vamos utilizar o algoritmo svd(Singular Value Decomposition) da biblioteca surprise, que é ultilizado especialmente para sistemas de recomendação colaborativa, para preparar o dataset escolhido para realizar o treino do modelo,\n",
        "a função \"build_anti_testset\" será usada para gerar todas as combinações posiveis de produtos com os quais o usuario nunca interagiu, filtrar as linhas relativas ao usuario, osganiza-la do maior para o menor, fazer uma lista com os primeiras recomendações(top_n)."
      ]
    },
    {
      "cell_type": "code",
      "execution_count": 41,
      "id": "8a90b58b",
      "metadata": {
        "id": "8a90b58b"
      },
      "outputs": [],
      "source": [
        "\n",
        "algoritmo = SVD()\n",
        "trainset = dados.build_full_trainset()\n",
        "algoritmo.fit(trainset)\n",
        "\n",
        "def get_collaborative_filtering_recommendations(user_id, top_n):\n",
        "    testset = trainset.build_anti_testset()\n",
        "    testset = filter(lambda x: x[0] == user_id, testset)\n",
        "    predictions = algoritmo.test(testset)\n",
        "    predictions.sort(key=lambda x: x.est, reverse=True)\n",
        "    recommendations = [prediction.iid for prediction in predictions[:top_n]]\n",
        "    return recommendations"
      ]
    },
    {
      "cell_type": "code",
      "execution_count": 42,
      "id": "7179188a",
      "metadata": {
        "id": "7179188a",
        "outputId": "6f38111d-7541-479d-ca35-b1467297807e",
        "colab": {
          "base_uri": "https://localhost:8080/"
        }
      },
      "outputs": [
        {
          "output_type": "execute_result",
          "data": {
            "text/plain": [
              "[420, 618, 269, 346, 311]"
            ]
          },
          "metadata": {},
          "execution_count": 42
        }
      ],
      "source": [
        "get_collaborative_filtering_recommendations(16,5)"
      ]
    },
    {
      "cell_type": "markdown",
      "id": "faa74837",
      "metadata": {
        "id": "faa74837"
      },
      "source": [
        "O sistema de recomendação\n"
      ]
    },
    {
      "cell_type": "markdown",
      "id": "174b8ad3",
      "metadata": {
        "id": "174b8ad3"
      },
      "source": [
        "Como ja realizamos todas as funções necessarias anteriormente, vamos criar uma função que recebe tanto id de produtos quanto id de usuarios e quantidade de recomendações de o sistema retornará para o usuario. vamos usar as funções dos metodos que ja criamos, combina-los e criar uma lista com as primeiras opções, com \"set\" para que não haja produtos duplicados\n"
      ]
    },
    {
      "cell_type": "code",
      "execution_count": 43,
      "id": "241bffdf",
      "metadata": {
        "id": "241bffdf"
      },
      "outputs": [],
      "source": [
        "def get_hybrid_recommendations(user_id, product_id, top_n):\n",
        "    produtos =[]\n",
        "    colaborar =get_collaborative_filtering_recommendations(user_id, top_n)\n",
        "    print(colaborar)\n",
        "    for produto in colaborar:\n",
        "      produtos.append(int(get_content_based_recommendations(produto,1)))\n",
        "    return list(set(produtos))\n"
      ]
    },
    {
      "cell_type": "code",
      "source": [
        "user_id = 16\n",
        "product_id = 7\n",
        "top_n = 5\n",
        "listarecomendacoes = get_hybrid_recommendations(user_id, product_id, top_n)\n",
        "\n"
      ],
      "metadata": {
        "colab": {
          "base_uri": "https://localhost:8080/"
        },
        "id": "y8Q6xrDyHm6-",
        "outputId": "07e44e27-8f48-4882-eb57-9f3af5a35740"
      },
      "id": "y8Q6xrDyHm6-",
      "execution_count": 59,
      "outputs": [
        {
          "output_type": "stream",
          "name": "stdout",
          "text": [
            "[420, 618, 269, 346, 311]\n"
          ]
        },
        {
          "output_type": "stream",
          "name": "stderr",
          "text": [
            "<ipython-input-43-5ce365266d9a>:6: DeprecationWarning: Conversion of an array with ndim > 0 to a scalar is deprecated, and will error in future. Ensure you extract a single element from your array before performing this operation. (Deprecated NumPy 1.25.)\n",
            "  produtos.append(int(get_content_based_recommendations(produto,1)))\n",
            "<ipython-input-43-5ce365266d9a>:6: DeprecationWarning: Conversion of an array with ndim > 0 to a scalar is deprecated, and will error in future. Ensure you extract a single element from your array before performing this operation. (Deprecated NumPy 1.25.)\n",
            "  produtos.append(int(get_content_based_recommendations(produto,1)))\n",
            "<ipython-input-43-5ce365266d9a>:6: DeprecationWarning: Conversion of an array with ndim > 0 to a scalar is deprecated, and will error in future. Ensure you extract a single element from your array before performing this operation. (Deprecated NumPy 1.25.)\n",
            "  produtos.append(int(get_content_based_recommendations(produto,1)))\n",
            "<ipython-input-43-5ce365266d9a>:6: DeprecationWarning: Conversion of an array with ndim > 0 to a scalar is deprecated, and will error in future. Ensure you extract a single element from your array before performing this operation. (Deprecated NumPy 1.25.)\n",
            "  produtos.append(int(get_content_based_recommendations(produto,1)))\n",
            "<ipython-input-43-5ce365266d9a>:6: DeprecationWarning: Conversion of an array with ndim > 0 to a scalar is deprecated, and will error in future. Ensure you extract a single element from your array before performing this operation. (Deprecated NumPy 1.25.)\n",
            "  produtos.append(int(get_content_based_recommendations(produto,1)))\n"
          ]
        }
      ]
    },
    {
      "cell_type": "code",
      "execution_count": 62,
      "id": "015b5a5d",
      "metadata": {
        "id": "015b5a5d",
        "colab": {
          "base_uri": "https://localhost:8080/"
        },
        "outputId": "44eb7052-f6e4-49f1-cd2f-d857dd4f5620"
      },
      "outputs": [
        {
          "output_type": "stream",
          "name": "stdout",
          "text": [
            "se voce gostou do produto Jeans White da marca Gucci XL talves tambem goste desses produtos: \n",
            "Shoes Black L da marca H&M\n",
            "Dress Yellow XL da marca Adidas\n",
            "Jeans White XL da marca Gucci\n",
            "Shoes Green S da marca Gucci\n",
            "Jeans Black S da marca Nike\n"
          ]
        }
      ],
      "source": [
        "nome = df.loc[df['Product ID'] == product_id, 'Product Name'].values[0]\n",
        "##product_name = df.loc[df['Product ID'] == product_id, 'Product Name'].item()\n",
        "marca = df.loc[df['Product ID'] == product_id, 'Brand'].values[0]\n",
        "cor = df.loc[df['Product ID'] == product_id, 'Color'].values[0]\n",
        "print(\"se voce gostou do produto\", nome, cor, \"da marca\", marca, tamanho, \"talves tambem goste desses produtos: \")\n",
        "\n",
        "\n",
        "for recomendacoes in listarecomendacoes:\n",
        "  nome = df.loc[df['Product ID'] == recomendacoes, 'Product Name'].values[0]\n",
        "  marca = df.loc[df['Product ID'] == recomendacoes, 'Brand'].values[0]\n",
        "  cor = df.loc[df['Product ID'] == recomendacoes, 'Color'].values[0]\n",
        "  print(nome, cor, \"da marca\", marca)\n",
        ""
      ]
    },
    {
      "cell_type": "code",
      "source": [
        "print(type(dados))"
      ],
      "metadata": {
        "colab": {
          "base_uri": "https://localhost:8080/"
        },
        "id": "CB9_phzP8oJs",
        "outputId": "ca76f269-1629-4658-8b40-0f67ca7ebc3a"
      },
      "id": "CB9_phzP8oJs",
      "execution_count": 30,
      "outputs": [
        {
          "output_type": "stream",
          "name": "stdout",
          "text": [
            "<class 'surprise.dataset.DatasetAutoFolds'>\n"
          ]
        }
      ]
    }
  ],
  "metadata": {
    "kernelspec": {
      "display_name": "Python 3",
      "language": "python",
      "name": "python3"
    },
    "language_info": {
      "codemirror_mode": {
        "name": "ipython",
        "version": 3
      },
      "file_extension": ".py",
      "mimetype": "text/x-python",
      "name": "python",
      "nbconvert_exporter": "python",
      "pygments_lexer": "ipython3",
      "version": "3.8.5"
    },
    "colab": {
      "provenance": []
    }
  },
  "nbformat": 4,
  "nbformat_minor": 5
}